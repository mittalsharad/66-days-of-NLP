{
  "nbformat": 4,
  "nbformat_minor": 0,
  "metadata": {
    "kernelspec": {
      "display_name": "Python 3",
      "language": "python",
      "name": "python3"
    },
    "language_info": {
      "codemirror_mode": {
        "name": "ipython",
        "version": 3
      },
      "file_extension": ".py",
      "mimetype": "text/x-python",
      "name": "python",
      "nbconvert_exporter": "python",
      "pygments_lexer": "ipython3",
      "version": "3.8.8"
    },
    "papermill": {
      "duration": 64.363134,
      "end_time": "2020-12-06T06:47:25.359034",
      "environment_variables": {},
      "exception": null,
      "input_path": "__notebook__.ipynb",
      "output_path": "__notebook__.ipynb",
      "parameters": {},
      "start_time": "2020-12-06T06:46:20.995900",
      "version": "2.1.0"
    },
    "colab": {
      "name": "Tokenization-in-NLP.ipynb",
      "provenance": [],
      "include_colab_link": true
    }
  },
  "cells": [
    {
      "cell_type": "markdown",
      "metadata": {
        "id": "view-in-github",
        "colab_type": "text"
      },
      "source": [
        "<a href=\"https://colab.research.google.com/github/mittalsharad/NLP/blob/main/NLP_Basics/Tokenization/Tokenization_in_NLP.ipynb\" target=\"_parent\"><img src=\"https://colab.research.google.com/assets/colab-badge.svg\" alt=\"Open In Colab\"/></a>"
      ]
    },
    {
      "cell_type": "markdown",
      "metadata": {
        "papermill": {
          "duration": 0.028474,
          "end_time": "2020-12-06T06:46:25.592818",
          "exception": false,
          "start_time": "2020-12-06T06:46:25.564344",
          "status": "completed"
        },
        "tags": [],
        "id": "pM4Nq1HC3vsp"
      },
      "source": [
        "![NLP_Header_Tokenization](https://raw.githubusercontent.com/satishgunjal/images/master/NLP_Header_Tokenization.png)"
      ]
    },
    {
      "cell_type": "markdown",
      "metadata": {
        "papermill": {
          "duration": 0.027201,
          "end_time": "2020-12-06T06:46:25.647314",
          "exception": false,
          "start_time": "2020-12-06T06:46:25.620113",
          "status": "completed"
        },
        "tags": [],
        "id": "DJPgkGZ33vst"
      },
      "source": [
        "# Index\n",
        "\n",
        "* [Tokenization Techniques](#1)\n",
        "  - [Tokenization Using Python's Inbuilt Method](#2)\n",
        "  - [Tokenization Using Regular Expressions(RegEx)](#3)\n",
        "  - [Tokenization Using NLTK](#4)\n",
        "  - [Tokenization Using spaCy](#5)\n",
        "  - [Tokenization using Keras](#6)\n",
        "  - [Tokenization using Gensim](#7)\n",
        "\n",
        "**Tutorial contains friendly description of multiple tokenization methods and python code.**"
      ]
    },
    {
      "cell_type": "markdown",
      "metadata": {
        "papermill": {
          "duration": 0.026761,
          "end_time": "2020-12-06T06:46:25.810342",
          "exception": false,
          "start_time": "2020-12-06T06:46:25.783581",
          "status": "completed"
        },
        "tags": [],
        "id": "5kT9nR4j3vst"
      },
      "source": [
        "# Tokenization Techniques <a id =\"1\"></a>\n",
        "There are multiple ways we can perform tokenization on given text data. We can choose any method based on language, library and purpose of modeling.\n",
        "\n",
        "## Tokenization Using Python's Inbuilt Method <a id =\"4\"></a>\n",
        "\n",
        "![NLP_Tokenization](https://raw.githubusercontent.com/satishgunjal/images/master/python_split_syntax.png)\n",
        "\n",
        "* We can use **split()** method to split a string into a list where each word is a list item.\n",
        "* By default split() use whitespace as separater, but we can change it to anything.\n",
        "\n",
        "### Word Tokenization"
      ]
    },
    {
      "cell_type": "code",
      "metadata": {
        "execution": {
          "iopub.execute_input": "2020-12-06T06:46:25.883527Z",
          "iopub.status.busy": "2020-12-06T06:46:25.882611Z",
          "iopub.status.idle": "2020-12-06T06:46:25.886387Z",
          "shell.execute_reply": "2020-12-06T06:46:25.887080Z"
        },
        "papermill": {
          "duration": 0.04974,
          "end_time": "2020-12-06T06:46:25.887264",
          "exception": false,
          "start_time": "2020-12-06T06:46:25.837524",
          "status": "completed"
        },
        "tags": [],
        "colab": {
          "base_uri": "https://localhost:8080/"
        },
        "id": "i3yJpimC3vsu",
        "outputId": "5fbaa1c9-2853-4b07-f8bf-d084ddd8293c"
      },
      "source": [
        "text = \"\"\"There are multiple ways we can perform tokenization on given text data. We can choose any method based on langauge, library and purpose of modeling.\"\"\"\n",
        "# Split text by whitespace\n",
        "tokens = text.split()\n",
        "print(tokens)"
      ],
      "execution_count": null,
      "outputs": [
        {
          "output_type": "stream",
          "text": [
            "['There', 'are', 'multiple', 'ways', 'we', 'can', 'perform', 'tokenization', 'on', 'given', 'text', 'data.', 'We', 'can', 'choose', 'any', 'method', 'based', 'on', 'langauge,', 'library', 'and', 'purpose', 'of', 'modeling.']\n"
          ],
          "name": "stdout"
        }
      ]
    },
    {
      "cell_type": "markdown",
      "metadata": {
        "papermill": {
          "duration": 0.027254,
          "end_time": "2020-12-06T06:46:25.942632",
          "exception": false,
          "start_time": "2020-12-06T06:46:25.915378",
          "status": "completed"
        },
        "tags": [],
        "id": "cKP59NTk3vsw"
      },
      "source": [
        "Observe in above list, words like 'language,' and  'modeling.' are containing punctuation at the end of them. **Python split method do not consider punctuation as separate token.**"
      ]
    },
    {
      "cell_type": "markdown",
      "metadata": {
        "papermill": {
          "duration": 0.027351,
          "end_time": "2020-12-06T06:46:25.997522",
          "exception": false,
          "start_time": "2020-12-06T06:46:25.970171",
          "status": "completed"
        },
        "tags": [],
        "id": "K-CVIrFL3vsw"
      },
      "source": [
        "### Sentence Tokenization"
      ]
    },
    {
      "cell_type": "code",
      "metadata": {
        "execution": {
          "iopub.execute_input": "2020-12-06T06:46:26.060333Z",
          "iopub.status.busy": "2020-12-06T06:46:26.059491Z",
          "iopub.status.idle": "2020-12-06T06:46:26.063452Z",
          "shell.execute_reply": "2020-12-06T06:46:26.062753Z"
        },
        "papermill": {
          "duration": 0.038563,
          "end_time": "2020-12-06T06:46:26.063572",
          "exception": false,
          "start_time": "2020-12-06T06:46:26.025009",
          "status": "completed"
        },
        "tags": [],
        "colab": {
          "base_uri": "https://localhost:8080/"
        },
        "id": "MSnXOqpi3vsw",
        "outputId": "7636ff54-64e3-4c8b-e1b0-d4e9328696bc"
      },
      "source": [
        "# Lets split the given text by full stop (.)\n",
        "text = \"\"\"Characters like periods, exclamation point and newline char are used to separate the sentences. But one drawback with split() method, that we can only use one separator at a time! So sentence tonenization wont be foolproof with split() method.\"\"\"\n",
        "text.split(\". \") # Note the space after the full stop makes sure that we dont get empty element at the end of list."
      ],
      "execution_count": null,
      "outputs": [
        {
          "output_type": "execute_result",
          "data": {
            "text/plain": [
              "['Characters like periods, exclamation point and newline char are used to separate the sentences',\n",
              " 'But one drawback with split() method, that we can only use one separator at a time! So sentence tonenization wont be foolproof with split() method.']"
            ]
          },
          "metadata": {
            "tags": []
          },
          "execution_count": 3
        }
      ]
    },
    {
      "cell_type": "markdown",
      "metadata": {
        "papermill": {
          "duration": 0.02798,
          "end_time": "2020-12-06T06:46:26.119715",
          "exception": false,
          "start_time": "2020-12-06T06:46:26.091735",
          "status": "completed"
        },
        "tags": [],
        "id": "H8VBshnA3vsx"
      },
      "source": [
        "As you can see, split() since we can't use multiple separator split() method failed to split the last sentence from separator (!). We can overcome this drawback by applying split method multiple times with different separator but there are better ways to do it."
      ]
    },
    {
      "cell_type": "markdown",
      "metadata": {
        "papermill": {
          "duration": 0.028206,
          "end_time": "2020-12-06T06:46:26.176169",
          "exception": false,
          "start_time": "2020-12-06T06:46:26.147963",
          "status": "completed"
        },
        "tags": [],
        "id": "eENLB6fq3vsy"
      },
      "source": [
        "## Tokenization Using Regular Expressions(RegEx) <a id =\"2\"></a>\n",
        "\n",
        "![python_regex_syntax](https://raw.githubusercontent.com/satishgunjal/images/master/python_regex_syntax.png)\n",
        "\n",
        "* A regular expression is a sequence of characters that define a search pattern.\n",
        "* Using RegEx we can match character combinations in string and perform word/sentence tokenization.\n",
        "* Please refer [regex101](https://regex101.com/) for testing your regular expression syntax.\n",
        "* We can use Python's **re** library for RegeEx related operations.\n"
      ]
    },
    {
      "cell_type": "markdown",
      "metadata": {
        "papermill": {
          "duration": 0.028199,
          "end_time": "2020-12-06T06:46:26.235090",
          "exception": false,
          "start_time": "2020-12-06T06:46:26.206891",
          "status": "completed"
        },
        "tags": [],
        "id": "eTUCf1nf3vsz"
      },
      "source": [
        "### Word Tokenization"
      ]
    },
    {
      "cell_type": "code",
      "metadata": {
        "execution": {
          "iopub.execute_input": "2020-12-06T06:46:26.298278Z",
          "iopub.status.busy": "2020-12-06T06:46:26.297555Z",
          "iopub.status.idle": "2020-12-06T06:46:26.300975Z",
          "shell.execute_reply": "2020-12-06T06:46:26.300290Z"
        },
        "papermill": {
          "duration": 0.037434,
          "end_time": "2020-12-06T06:46:26.301090",
          "exception": false,
          "start_time": "2020-12-06T06:46:26.263656",
          "status": "completed"
        },
        "tags": [],
        "colab": {
          "base_uri": "https://localhost:8080/"
        },
        "id": "O_pzap9e3vsz",
        "outputId": "65108a76-db99-4a5f-c1db-63d09cb6bacc"
      },
      "source": [
        "import re\n",
        "\n",
        "text = \"\"\"There are multiple ways we can perform tokenization on given text data. We can choose any method based on langauge, library and purpose of modeling.\"\"\"\n",
        "tokens = re.findall(\"[\\w]+\", text)\n",
        "print(tokens)"
      ],
      "execution_count": null,
      "outputs": [
        {
          "output_type": "stream",
          "text": [
            "['There', 'are', 'multiple', 'ways', 'we', 'can', 'perform', 'tokenization', 'on', 'given', 'text', 'data', 'We', 'can', 'choose', 'any', 'method', 'based', 'on', 'langauge', 'library', 'and', 'purpose', 'of', 'modeling']\n"
          ],
          "name": "stdout"
        }
      ]
    },
    {
      "cell_type": "markdown",
      "metadata": {
        "papermill": {
          "duration": 0.029001,
          "end_time": "2020-12-06T06:46:26.359283",
          "exception": false,
          "start_time": "2020-12-06T06:46:26.330282",
          "status": "completed"
        },
        "tags": [],
        "id": "guaweVmA3vsz"
      },
      "source": [
        "Based on RegEx pattern we are able to generate the list of words. Details about each character in our RegEx pattern is as below.\n",
        "```\n",
        "[] :\tA set of characters.\n",
        "\\w :    Returns a match where the string contains any word characters (characters from a to Z, digits from 0-9, and the underscore _ character).\n",
        "+  :\tOne or more occurrences.\n",
        "```\n",
        "\n",
        "So our RegEx pattern signifies that the code should find all the alphanumeric characters until any other character is encountered."
      ]
    },
    {
      "cell_type": "markdown",
      "metadata": {
        "papermill": {
          "duration": 0.028573,
          "end_time": "2020-12-06T06:46:26.417012",
          "exception": false,
          "start_time": "2020-12-06T06:46:26.388439",
          "status": "completed"
        },
        "tags": [],
        "id": "QlZK0XUD3vs0"
      },
      "source": [
        "### Sentence Tokenization"
      ]
    },
    {
      "cell_type": "code",
      "metadata": {
        "execution": {
          "iopub.execute_input": "2020-12-06T06:46:26.482316Z",
          "iopub.status.busy": "2020-12-06T06:46:26.481423Z",
          "iopub.status.idle": "2020-12-06T06:46:26.485272Z",
          "shell.execute_reply": "2020-12-06T06:46:26.485828Z"
        },
        "papermill": {
          "duration": 0.039371,
          "end_time": "2020-12-06T06:46:26.485973",
          "exception": false,
          "start_time": "2020-12-06T06:46:26.446602",
          "status": "completed"
        },
        "tags": [],
        "colab": {
          "base_uri": "https://localhost:8080/"
        },
        "id": "4VQmcjQn3vs0",
        "outputId": "829e3c7b-ed83-4754-a911-d8522a972fa2"
      },
      "source": [
        "text = \"\"\"Characters like periods, exclamation point and newline char are used to separate the sentences. But one drawback with split() method, that we can only use one separator at a time! So sentence tonenization wont be foolproof with split() method.\"\"\"\n",
        "tokens_sent = re.compile('[.!?] ').split(text) # Using compile method to combine RegEx patterns\n",
        "tokens_sent"
      ],
      "execution_count": null,
      "outputs": [
        {
          "output_type": "execute_result",
          "data": {
            "text/plain": [
              "['Characters like periods, exclamation point and newline char are used to separate the sentences',\n",
              " 'But one drawback with split() method, that we can only use one separator at a time',\n",
              " 'So sentence tonenization wont be foolproof with split() method.']"
            ]
          },
          "metadata": {
            "tags": []
          },
          "execution_count": 5
        }
      ]
    },
    {
      "cell_type": "markdown",
      "metadata": {
        "papermill": {
          "duration": 0.029549,
          "end_time": "2020-12-06T06:46:26.545121",
          "exception": false,
          "start_time": "2020-12-06T06:46:26.515572",
          "status": "completed"
        },
        "tags": [],
        "id": "N0lYd6zy3vs1"
      },
      "source": [
        "As you can see from above result, we are able to split sentence using multiple separators."
      ]
    },
    {
      "cell_type": "markdown",
      "metadata": {
        "papermill": {
          "duration": 0.029162,
          "end_time": "2020-12-06T06:46:26.603828",
          "exception": false,
          "start_time": "2020-12-06T06:46:26.574666",
          "status": "completed"
        },
        "tags": [],
        "id": "b21wOJm93vs1"
      },
      "source": [
        "## Tokenization Using NLTK <a id =\"3\"></a>\n",
        "* Natural Language Toolkit (NLTK) is library written in python for natural language processing.\n",
        "* NLTK has module **word_tokenize()** for word tokenization and **sent_tokenize()** for sentence tokenization.\n",
        "* Syntax to install NLTK is as below\n",
        "```\n",
        "!pip install --user -U nltk\n",
        "```\n",
        "* Note that we are going use \"!\" before the command to let notebook know that, it should read as commandline command\n",
        "\n",
        "### Word Tokenization"
      ]
    },
    {
      "cell_type": "code",
      "metadata": {
        "execution": {
          "iopub.execute_input": "2020-12-06T06:46:40.367577Z",
          "iopub.status.busy": "2020-12-06T06:46:40.366771Z",
          "iopub.status.idle": "2020-12-06T06:46:41.872527Z",
          "shell.execute_reply": "2020-12-06T06:46:41.871489Z"
        },
        "papermill": {
          "duration": 1.553435,
          "end_time": "2020-12-06T06:46:41.872697",
          "exception": false,
          "start_time": "2020-12-06T06:46:40.319262",
          "status": "completed"
        },
        "tags": [],
        "colab": {
          "base_uri": "https://localhost:8080/"
        },
        "id": "sB0bnk9h3vs2",
        "outputId": "7b19a400-9a08-4219-fdde-94bbff1436ac"
      },
      "source": [
        "from nltk.tokenize import word_tokenize\n",
        "\n",
        "text = \"\"\"There are multiple ways we can perform tokenization on given text data. We can choose any method based on langauge, library and purpose of modeling.\"\"\"\n",
        "tokens = word_tokenize(text)\n",
        "print(tokens)"
      ],
      "execution_count": null,
      "outputs": [
        {
          "output_type": "stream",
          "text": [
            "['There', 'are', 'multiple', 'ways', 'we', 'can', 'perform', 'tokenization', 'on', 'given', 'text', 'data', '.', 'We', 'can', 'choose', 'any', 'method', 'based', 'on', 'langauge', ',', 'library', 'and', 'purpose', 'of', 'modeling', '.']\n"
          ],
          "name": "stdout"
        }
      ]
    },
    {
      "cell_type": "markdown",
      "metadata": {
        "papermill": {
          "duration": 0.042171,
          "end_time": "2020-12-06T06:46:41.958256",
          "exception": false,
          "start_time": "2020-12-06T06:46:41.916085",
          "status": "completed"
        },
        "tags": [],
        "id": "XidECLEQ3vs3"
      },
      "source": [
        "Notice that NLTK word tokenization also consider the punctuation as token. During text cleaning process we have to account for this."
      ]
    },
    {
      "cell_type": "markdown",
      "metadata": {
        "papermill": {
          "duration": 0.042074,
          "end_time": "2020-12-06T06:46:42.042804",
          "exception": false,
          "start_time": "2020-12-06T06:46:42.000730",
          "status": "completed"
        },
        "tags": [],
        "id": "YmiMHKaH3vs3"
      },
      "source": [
        "### Sentence Tokenization"
      ]
    },
    {
      "cell_type": "code",
      "metadata": {
        "execution": {
          "iopub.execute_input": "2020-12-06T06:46:42.141478Z",
          "iopub.status.busy": "2020-12-06T06:46:42.140491Z",
          "iopub.status.idle": "2020-12-06T06:46:42.145263Z",
          "shell.execute_reply": "2020-12-06T06:46:42.144546Z"
        },
        "papermill": {
          "duration": 0.058997,
          "end_time": "2020-12-06T06:46:42.145382",
          "exception": false,
          "start_time": "2020-12-06T06:46:42.086385",
          "status": "completed"
        },
        "tags": [],
        "colab": {
          "base_uri": "https://localhost:8080/"
        },
        "id": "cFBHJvXW3vs3",
        "outputId": "e98b2135-aae4-4df6-9c5d-cdc5daa54168"
      },
      "source": [
        "from nltk.tokenize import sent_tokenize\n",
        "\n",
        "text = \"\"\"Characters like periods, exclamation point and newline char are used to separate the sentences. But one drawback with split() method, that we can only use one separator at a time! So sentence tonenization wont be foolproof with split() method.\"\"\"\n",
        "sent_tokenize(text)"
      ],
      "execution_count": null,
      "outputs": [
        {
          "output_type": "execute_result",
          "data": {
            "text/plain": [
              "['Characters like periods, exclamation point and newline char are used to separate the sentences.',\n",
              " 'But one drawback with split() method, that we can only use one separator at a time!',\n",
              " 'So sentence tonenization wont be foolproof with split() method.']"
            ]
          },
          "metadata": {
            "tags": []
          },
          "execution_count": 13
        }
      ]
    },
    {
      "cell_type": "markdown",
      "metadata": {
        "papermill": {
          "duration": 0.043178,
          "end_time": "2020-12-06T06:46:42.232912",
          "exception": false,
          "start_time": "2020-12-06T06:46:42.189734",
          "status": "completed"
        },
        "tags": [],
        "id": "Dy_i05kg3vs4"
      },
      "source": [
        "## Tokenization Using spaCy <a id =\"4\"></a>\n",
        "* spaCy is an open-source software library for advanced natural language processing, written in the programming languages Python and Cython\n",
        "* in spaCy we create language model object, which then used for word and sentence tokenization\n",
        "* Syntax to install spaCy library and English model is as below\n",
        "```\n",
        "!pip install spacy\n",
        "!python -m spacy download en\n",
        "```\n",
        "* Note that we are going use \"!\" before the command to let notebook know that, it should read as commandline command\n",
        "\n",
        "### Word Tokenization"
      ]
    },
    {
      "cell_type": "code",
      "metadata": {
        "execution": {
          "iopub.execute_input": "2020-12-06T06:47:00.899229Z",
          "iopub.status.busy": "2020-12-06T06:47:00.898107Z",
          "iopub.status.idle": "2020-12-06T06:47:01.726640Z",
          "shell.execute_reply": "2020-12-06T06:47:01.725475Z"
        },
        "papermill": {
          "duration": 0.885598,
          "end_time": "2020-12-06T06:47:01.726830",
          "exception": false,
          "start_time": "2020-12-06T06:47:00.841232",
          "status": "completed"
        },
        "tags": [],
        "colab": {
          "base_uri": "https://localhost:8080/"
        },
        "id": "ErQ-CNFo3vs5",
        "outputId": "2422060c-5e1e-483f-8582-f1386beafd2a"
      },
      "source": [
        "# Load English model from spacy\n",
        "from spacy.lang.en import English\n",
        "\n",
        "# Load English tokenizer. \n",
        "# nlp object will be used to create 'doc' object which uses preprecoessing pipeline's components such as tagger, parser, NER and word vectors\n",
        "nlp = English()\n",
        "\n",
        "text = \"\"\"There are multiple ways we can perform tokenization on given text data. We can choose any method based on langauge, library and purpose of modeling.\"\"\"\n",
        "\n",
        "# Now we will process above text using 'nlp' object. Which is use to create documents with linguistic annotations and various nlp properties\n",
        "my_doc = nlp(text)\n",
        "\n",
        "# Above step has already tokenized our text but its in doc format, so lets write fo loop to create list of it\n",
        "token_list = []\n",
        "for token in my_doc:\n",
        "    token_list.append(token.text)\n",
        "\n",
        "print(token_list)"
      ],
      "execution_count": null,
      "outputs": [
        {
          "output_type": "stream",
          "text": [
            "['There', 'are', 'multiple', 'ways', 'we', 'can', 'perform', 'tokenization', 'on', 'given', 'text', 'data', '.', 'We', 'can', 'choose', 'any', 'method', 'based', 'on', 'langauge', ',', 'library', 'and', 'purpose', 'of', 'modeling', '.']\n"
          ],
          "name": "stdout"
        }
      ]
    },
    {
      "cell_type": "markdown",
      "metadata": {
        "papermill": {
          "duration": 0.048984,
          "end_time": "2020-12-06T06:47:01.825948",
          "exception": false,
          "start_time": "2020-12-06T06:47:01.776964",
          "status": "completed"
        },
        "tags": [],
        "id": "USIC8_TW3vs5"
      },
      "source": [
        "### Sentence Tokenization"
      ]
    },
    {
      "cell_type": "code",
      "metadata": {
        "execution": {
          "iopub.execute_input": "2020-12-06T06:47:01.955005Z",
          "iopub.status.busy": "2020-12-06T06:47:01.934219Z",
          "iopub.status.idle": "2020-12-06T06:47:02.300268Z",
          "shell.execute_reply": "2020-12-06T06:47:02.299499Z"
        },
        "papermill": {
          "duration": 0.425176,
          "end_time": "2020-12-06T06:47:02.300410",
          "exception": false,
          "start_time": "2020-12-06T06:47:01.875234",
          "status": "completed"
        },
        "tags": [],
        "colab": {
          "base_uri": "https://localhost:8080/"
        },
        "id": "8zWg_u5F3vs6",
        "outputId": "d38bd9e8-1c18-4827-b59d-4dcf6f23565e"
      },
      "source": [
        "# Load English tokenizer, tager, parser, NER and word vectors\n",
        "nlp = English()\n",
        "\n",
        "# Create the pipeline 'sentencizer' component\n",
        "sbd = nlp.create_pipe('sentencizer')\n",
        "\n",
        "# Add component to the pipeline\n",
        "nlp.add_pipe(sbd)\n",
        "\n",
        "text = \"\"\"Characters like periods, exclamation point and newline char are used to separate the sentences. But one drawback with split() method, that we can only use one separator at a time! So sentence tonenization wont be foolproof with split() method.\"\"\"\n",
        "\n",
        "# nlp object is used to create documents with linguistic annotations\n",
        "doc = nlp(text)\n",
        "\n",
        "# Create list of sentence tokens\n",
        "\n",
        "sentence_list =[]\n",
        "for sentence in doc.sents:\n",
        "    sentence_list.append(sentence.text)\n",
        "print(sentence_list)"
      ],
      "execution_count": null,
      "outputs": [
        {
          "output_type": "stream",
          "text": [
            "['Characters like periods, exclamation point and newline char are used to separate the sentences.', 'But one drawback with split() method, that we can only use one separator at a time!', 'So sentence tonenization wont be foolproof with split() method.']\n"
          ],
          "name": "stdout"
        }
      ]
    },
    {
      "cell_type": "markdown",
      "metadata": {
        "papermill": {
          "duration": 0.049842,
          "end_time": "2020-12-06T06:47:02.400686",
          "exception": false,
          "start_time": "2020-12-06T06:47:02.350844",
          "status": "completed"
        },
        "tags": [],
        "id": "9E2tcHNV3vs6"
      },
      "source": [
        "## Tokenization using Keras <a id =\"5\"></a>\n",
        "* Keras is opensource neural network library written in python. It is easy to use and it is capable of running on top of TensorFlow, Microsoft Cognitive Toolkit, R, Theano, or PlaidML\n",
        "* To perform word tokenization we use the **text_to_word_sequence()** method from the **keras.preprocessing.text class**\n",
        "* By default, this function automatically does 3 things:\n",
        "    * Splits words by space (split=” “).\n",
        "    * Filters out punctuation (filters=’!”#$%&()*+,-./:;<=>?@[\\\\]^_`{|}~\\t\\n’).\n",
        "    * Converts text to lowercase (lower=True).\n",
        "* Syntx to install Keras\n",
        "```\n",
        "!pip install Keras\n",
        "```"
      ]
    },
    {
      "cell_type": "markdown",
      "metadata": {
        "papermill": {
          "duration": 0.051361,
          "end_time": "2020-12-06T06:47:10.356024",
          "exception": false,
          "start_time": "2020-12-06T06:47:10.304663",
          "status": "completed"
        },
        "tags": [],
        "id": "Q_kI6WGM3vs7"
      },
      "source": [
        "### Word Tokenization"
      ]
    },
    {
      "cell_type": "code",
      "metadata": {
        "execution": {
          "iopub.execute_input": "2020-12-06T06:47:10.466845Z",
          "iopub.status.busy": "2020-12-06T06:47:10.466032Z",
          "iopub.status.idle": "2020-12-06T06:47:15.680504Z",
          "shell.execute_reply": "2020-12-06T06:47:15.679298Z"
        },
        "papermill": {
          "duration": 5.272704,
          "end_time": "2020-12-06T06:47:15.680643",
          "exception": false,
          "start_time": "2020-12-06T06:47:10.407939",
          "status": "completed"
        },
        "tags": [],
        "colab": {
          "base_uri": "https://localhost:8080/"
        },
        "id": "zHCVKwSu3vs7",
        "outputId": "73110ae3-c219-43de-fca2-eb70de8a9784"
      },
      "source": [
        "from keras.preprocessing.text import text_to_word_sequence\n",
        "\n",
        "text = \"\"\"There are multiple ways we can perform tokenization on given text data. We can choose any method based on langauge, library and purpose of modeling.\"\"\"\n",
        "\n",
        "tokens = text_to_word_sequence(text)\n",
        "print(tokens)"
      ],
      "execution_count": null,
      "outputs": [
        {
          "output_type": "stream",
          "text": [
            "['there', 'are', 'multiple', 'ways', 'we', 'can', 'perform', 'tokenization', 'on', 'given', 'text', 'data', 'we', 'can', 'choose', 'any', 'method', 'based', 'on', 'langauge', 'library', 'and', 'purpose', 'of', 'modeling']\n"
          ],
          "name": "stdout"
        }
      ]
    },
    {
      "cell_type": "markdown",
      "metadata": {
        "papermill": {
          "duration": 0.052164,
          "end_time": "2020-12-06T06:47:15.785995",
          "exception": false,
          "start_time": "2020-12-06T06:47:15.733831",
          "status": "completed"
        },
        "tags": [],
        "id": "nrP9itaS3vs8"
      },
      "source": [
        "As you can notice, all words are also converted to lowercase. This is default behavior we can change it by changing the arguments e.g. text_to_word_sequence(text,lower=False)\n",
        "\n",
        "### Sentence Tokenization\n",
        "For sentence tokenization we can use filters like \"!.\\n\" to split the text into sentences."
      ]
    },
    {
      "cell_type": "code",
      "metadata": {
        "execution": {
          "iopub.execute_input": "2020-12-06T06:47:15.898431Z",
          "iopub.status.busy": "2020-12-06T06:47:15.897518Z",
          "iopub.status.idle": "2020-12-06T06:47:15.902111Z",
          "shell.execute_reply": "2020-12-06T06:47:15.901406Z"
        },
        "papermill": {
          "duration": 0.063573,
          "end_time": "2020-12-06T06:47:15.902250",
          "exception": false,
          "start_time": "2020-12-06T06:47:15.838677",
          "status": "completed"
        },
        "tags": [],
        "colab": {
          "base_uri": "https://localhost:8080/"
        },
        "id": "oT9GHoAO3vs8",
        "outputId": "150c55c7-a5de-4462-cc00-7098337c2af8"
      },
      "source": [
        "from keras.preprocessing.text import text_to_word_sequence\n",
        "\n",
        "text = \"\"\"Characters like periods, exclamation point and newline char are used to separate the sentences. But one drawback with split() method, that we can only use one separator at a time! So sentence tonenization wont be foolproof with split() method.\"\"\"\n",
        "\n",
        "text_to_word_sequence(text, split= \".\", filters=\"!.\\n\")"
      ],
      "execution_count": null,
      "outputs": [
        {
          "output_type": "execute_result",
          "data": {
            "text/plain": [
              "['characters like periods, exclamation point and newline char are used to separate the sentences',\n",
              " ' but one drawback with split() method, that we can only use one separator at a time',\n",
              " ' so sentence tonenization wont be foolproof with split() method']"
            ]
          },
          "metadata": {
            "tags": []
          },
          "execution_count": 18
        }
      ]
    },
    {
      "cell_type": "markdown",
      "metadata": {
        "papermill": {
          "duration": 0.052439,
          "end_time": "2020-12-06T06:47:16.007915",
          "exception": false,
          "start_time": "2020-12-06T06:47:15.955476",
          "status": "completed"
        },
        "tags": [],
        "id": "SWnVGmYh3vs8"
      },
      "source": [
        "## Tokenization using Gensim <a id =\"6\"></a>\n",
        "* Gensim is an open-source library for unsupervised topic modeling and natural language processing, using modern statistical machine learning.\n",
        "* We are going to use **tokenize()** from **gensim.utility** class for word tokenization.\n",
        "* Unlike other libraries Gensim has separate method **split_sentences()** from class **gensim.summarization.textcleaner** for sentence tokenization. \n",
        "* Syntx to install Gensim\n",
        "```\n",
        "!pip install gensim\n",
        "```"
      ]
    },
    {
      "cell_type": "code",
      "metadata": {
        "_kg_hide-output": true,
        "execution": {
          "iopub.execute_input": "2020-12-06T06:47:16.119261Z",
          "iopub.status.busy": "2020-12-06T06:47:16.118490Z",
          "iopub.status.idle": "2020-12-06T06:47:24.127315Z",
          "shell.execute_reply": "2020-12-06T06:47:24.126610Z"
        },
        "papermill": {
          "duration": 8.066851,
          "end_time": "2020-12-06T06:47:24.127535",
          "exception": false,
          "start_time": "2020-12-06T06:47:16.060684",
          "status": "completed"
        },
        "tags": [],
        "id": "ihH_3MMx3vs8"
      },
      "source": [
        "!pip install gensim==3.8.3"
      ],
      "execution_count": null,
      "outputs": []
    },
    {
      "cell_type": "markdown",
      "metadata": {
        "papermill": {
          "duration": 0.055837,
          "end_time": "2020-12-06T06:47:24.239738",
          "exception": false,
          "start_time": "2020-12-06T06:47:24.183901",
          "status": "completed"
        },
        "tags": [],
        "id": "Y_uJ7DiS3vs9"
      },
      "source": [
        "### Word Tokenization"
      ]
    },
    {
      "cell_type": "code",
      "metadata": {
        "execution": {
          "iopub.execute_input": "2020-12-06T06:47:24.358632Z",
          "iopub.status.busy": "2020-12-06T06:47:24.357872Z",
          "iopub.status.idle": "2020-12-06T06:47:24.596040Z",
          "shell.execute_reply": "2020-12-06T06:47:24.595287Z"
        },
        "papermill": {
          "duration": 0.300073,
          "end_time": "2020-12-06T06:47:24.596193",
          "exception": false,
          "start_time": "2020-12-06T06:47:24.296120",
          "status": "completed"
        },
        "tags": [],
        "colab": {
          "base_uri": "https://localhost:8080/"
        },
        "id": "heMfEp1x3vs9",
        "outputId": "e7f68cc2-6f42-4873-e0e9-f6fe69f7a5d5"
      },
      "source": [
        "from gensim.utils import tokenize\n",
        "\n",
        "text = \"\"\"There are multiple ways we can perform tokenization on given text data. We can choose any method based on langauge, library and purpose of modeling.\"\"\"\n",
        "\n",
        "tokens = list(tokenize(text))\n",
        "print(tokens)"
      ],
      "execution_count": null,
      "outputs": [
        {
          "output_type": "stream",
          "text": [
            "['There', 'are', 'multiple', 'ways', 'we', 'can', 'perform', 'tokenization', 'on', 'given', 'text', 'data', 'We', 'can', 'choose', 'any', 'method', 'based', 'on', 'langauge', 'library', 'and', 'purpose', 'of', 'modeling']\n"
          ],
          "name": "stdout"
        }
      ]
    },
    {
      "cell_type": "markdown",
      "metadata": {
        "papermill": {
          "duration": 0.056696,
          "end_time": "2020-12-06T06:47:24.833022",
          "exception": false,
          "start_time": "2020-12-06T06:47:24.776326",
          "status": "completed"
        },
        "tags": [],
        "id": "72AkaXCy3vs9"
      },
      "source": [
        "### Sentence Tokenization"
      ]
    },
    {
      "cell_type": "code",
      "metadata": {
        "execution": {
          "iopub.execute_input": "2020-12-06T06:47:24.957086Z",
          "iopub.status.busy": "2020-12-06T06:47:24.956095Z",
          "iopub.status.idle": "2020-12-06T06:47:24.960244Z",
          "shell.execute_reply": "2020-12-06T06:47:24.960754Z"
        },
        "papermill": {
          "duration": 0.06877,
          "end_time": "2020-12-06T06:47:24.960922",
          "exception": false,
          "start_time": "2020-12-06T06:47:24.892152",
          "status": "completed"
        },
        "tags": [],
        "colab": {
          "base_uri": "https://localhost:8080/"
        },
        "id": "HAp_sVLc3vs-",
        "outputId": "5a265bab-6033-4ee6-ca38-6b76afdd7bb8"
      },
      "source": [
        "from gensim.summarization.textcleaner import split_sentences\n",
        "\n",
        "text = \"\"\"Characters like periods, exclamation point and newline char are used to separate the sentences. But one drawback with split() method, that we can only use one separator at a time! So sentence tonenization wont be foolproof with split() method.\"\"\"\n",
        "\n",
        "list(split_sentences(text))"
      ],
      "execution_count": null,
      "outputs": [
        {
          "output_type": "execute_result",
          "data": {
            "text/plain": [
              "['Characters like periods, exclamation point and newline char are used to separate the sentences.',\n",
              " 'But one drawback with split() method, that we can only use one separator at a time!',\n",
              " 'So sentence tonenization wont be foolproof with split() method.']"
            ]
          },
          "metadata": {
            "tags": []
          },
          "execution_count": 20
        }
      ]
    },
    {
      "cell_type": "markdown",
      "metadata": {
        "papermill": {
          "duration": 0.058555,
          "end_time": "2020-12-06T06:47:25.077265",
          "exception": false,
          "start_time": "2020-12-06T06:47:25.018710",
          "status": "completed"
        },
        "tags": [],
        "id": "CqNNrriS3vs-"
      },
      "source": [
        "# Conclusion <a id =\"10\"></a>\n",
        "There are multiple ways to do the tokenization. We can use any library depending on our requirement and features supported by the library. Feel free to try above code with different text snippet to get hold of how tokenization work."
      ]
    },
    {
      "cell_type": "markdown",
      "metadata": {
        "papermill": {
          "duration": 0.057242,
          "end_time": "2020-12-06T06:47:25.192056",
          "exception": false,
          "start_time": "2020-12-06T06:47:25.134814",
          "status": "completed"
        },
        "tags": [],
        "id": "cMzppOMN3vs_"
      },
      "source": [
        "# References <a id =\"11\"></a>\n",
        "* https://keras.io/api/preprocessing/text/#text_to_word_sequence\n",
        "* https://www.nltk.org/\n",
        "* https://machinelearningmastery.com/prepare-text-data-deep-learning-keras/\n",
        "* https://towardsdatascience.com/tokenization-for-natural-language-processing-a179a891bad4\n",
        "* https://www.analyticsvidhya.com/blog/2019/07/how-get-started-nlp-6-unique-ways-perform-tokenization/\n"
      ]
    },
    {
      "cell_type": "code",
      "metadata": {
        "id": "eB7VHnna3vs_"
      },
      "source": [
        ""
      ],
      "execution_count": null,
      "outputs": []
    }
  ]
}